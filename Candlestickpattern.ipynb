{
  "nbformat": 4,
  "nbformat_minor": 0,
  "metadata": {
    "colab": {
      "provenance": [],
      "authorship_tag": "ABX9TyMUx9hMUy3/sBOsWeUq64bV",
      "include_colab_link": true
    },
    "kernelspec": {
      "name": "python3",
      "display_name": "Python 3"
    },
    "language_info": {
      "name": "python"
    }
  },
  "cells": [
    {
      "cell_type": "markdown",
      "metadata": {
        "id": "view-in-github",
        "colab_type": "text"
      },
      "source": [
        "<a href=\"https://colab.research.google.com/github/Il-Mistero/Il-Mistero/blob/main/Candlestickpattern.ipynb\" target=\"_parent\"><img src=\"https://colab.research.google.com/assets/colab-badge.svg\" alt=\"Open In Colab\"/></a>"
      ]
    },
    {
      "cell_type": "code",
      "execution_count": 1,
      "metadata": {
        "id": "GA4GfJvl7sPr"
      },
      "outputs": [],
      "source": [
        "import pandas as pd"
      ]
    },
    {
      "cell_type": "code",
      "source": [
        "import datetime as dt\n",
        "!pip install yfinance\n",
        "import yfinance as yf\n",
        "import matplotlib.pyplot as plt\n",
        "import matplotlib.dates as mdates\n",
        "!pip install mplfinance\n",
        "import mplfinance as mpf\n",
        "from mplfinance.original_flavor import candlestick_ohlc\n",
        "\n",
        "# Define Time Frame #\n",
        "start = dt.datetime(2019, 1, 1)\n",
        "end = dt.datetime.now()\n",
        "\n",
        "# Load Data\n",
        "data = yf.download('NVDA', start=start, end=end)\n",
        "\n",
        "print(data.columns)\n",
        "\n",
        "# Restructure Data\n",
        "data = data[['Open', 'High', 'Low', 'Close']]\n",
        "\n",
        "# Reset index and convert dates\n",
        "data.reset_index(inplace=True)\n",
        "data['Date'] = data['Date'].map(mdates.date2num)\n",
        "\n",
        "# Plotting\n",
        "fig, ax = plt.subplots()\n",
        "\n",
        "ax.grid(True)\n",
        "ax.set_axisbelow(True)\n",
        "ax.set_title('Nvidia Share Price', color='white')\n",
        "ax.set_facecolor('black')\n",
        "ax.figure.set_facecolor('#121212')\n",
        "ax.tick_params(axis='x', colors='white')\n",
        "ax.tick_params(axis='y', colors='white')\n",
        "ax.xaxis_date()\n",
        "\n",
        "# Candlestick Plot\n",
        "candlestick_ohlc(ax, data[['Date', 'Open', 'High', 'Low', 'Close']].values, width=0.5, colorup='#00ff00')\n",
        "\n",
        "plt.show()\n"
      ],
      "metadata": {
        "colab": {
          "base_uri": "https://localhost:8080/",
          "height": 1000
        },
        "id": "9263OJQL8IDq",
        "outputId": "300fd72c-a013-486e-92e4-cb60b14dcd4d"
  },
    {
      "cell_type": "code",
      "source": [],
      "metadata": {
        "id": "x_RZbsweOiq9"
      },
      "execution_count": null,
      "outputs": []
    }
  ]
}
